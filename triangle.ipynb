{
  "nbformat": 4,
  "nbformat_minor": 0,
  "metadata": {
    "colab": {
      "name": "triangle.ipynb",
      "provenance": [],
      "collapsed_sections": []
    },
    "kernelspec": {
      "name": "python3",
      "display_name": "Python 3"
    },
    "language_info": {
      "name": "python"
    }
  },
  "cells": [
    {
      "cell_type": "code",
      "metadata": {
        "colab": {
          "base_uri": "https://localhost:8080/",
          "height": 650
        },
        "id": "u5T0nKmsV3fU",
        "outputId": "0fba11b8-a1c1-451a-c2aa-9c616fef6205"
      },
      "source": [
        "import matplotlib.pyplot as plt\n",
        "import numpy as np\n",
        "\n",
        "\n",
        "print(f\"\\n\\nCoordinates of triangle ABC are: A{A}, B{B}, C{C} \")\n",
        "print(f\"Coordinates of triangle PQR are: P{P}, Q{Q}, R{R} \")\n",
        "\n",
        "a1 = np.array([[1, 1, 1], [4, 1, -3], [3, -3, 1]])\n",
        "print(f\"\\n\\nTriangle ABC:\\n{a1}\")\n",
        "area_abc=0.5*np.linalg.det(a1)\n",
        "print(f\"\\nArea of Triangle ABC= {area_abc}\")\n",
        "\n",
        "a2 = np.array([[1, 1, 1], [4, -3, 1], [3, 1, -3]])\n",
        "print(f\"\\n\\nTriangle PQR:\\n{a2}\")\n",
        "area_pqr=0.5*np.linalg.det(a2)\n",
        "print(f\"\\nArea of Triangle PQR= {area_pqr}\\n\\n\")\n",
        "\n",
        "\n",
        "\n",
        "### GRAPH DISPLAY\n",
        "\n",
        "# AB\n",
        "plt.plot([4,1],[3,-3],color='blue', label=\"AB,PR\" )\n",
        "# BC\n",
        "plt.plot([1,-3],[-3,1],color='red', label=\"BC,QR\")\n",
        "# AC\n",
        "plt.plot([4,-3],[3,1],color='green', label=\"AC,PQ\")\n",
        "\n",
        "\n",
        "A=np.array([4,3])\n",
        "B=np.array([1,-3])\n",
        "C=np.array([-3,1])\n",
        "\n",
        "P=np.array([4,3])\n",
        "Q=np.array([-3,1])\n",
        "R=np.array([1,-3])\n",
        "\n",
        " \n",
        "#annotations\n",
        "quad_coords = np.vstack((A,B,C)).T\n",
        "plt.scatter(quad_coords[0,:], quad_coords[1,:])\n",
        "vert_labels = ['A,P','B,R','C,Q']\n",
        "for i, txt in enumerate(vert_labels):\n",
        "    plt.annotate(txt, # this is the text\n",
        "                 (quad_coords[0,i], quad_coords[1,i]), # this is the point to label\n",
        "                 textcoords=\"offset points\", # how to position the text\n",
        "                 xytext=(0,10), # distance from text to points (x,y)\n",
        "                 ha='center') # horizontal alignment can be left, right or center\n",
        "\n",
        "\n",
        "plt.xlabel('$x-axis$')\n",
        "plt.ylabel('$y-axis$')\n",
        "plt.legend(loc='best')\n",
        "plt.grid()\n",
        "plt.xlim(-5,5)\n",
        "plt.ylim(-5,5)\n",
        "plt.savefig('triangle.png')\n",
        "plt.show()"
      ],
      "execution_count": 49,
      "outputs": [
        {
          "output_type": "stream",
          "name": "stdout",
          "text": [
            "\n",
            "\n",
            "Coordinates of triangle ABC are: A[4 3], B[ 1 -3], C[-3  1] \n",
            "Coordinates of triangle PQR are: P[4 3], Q[-3  1], R[ 1 -3] \n",
            "\n",
            "\n",
            "Triangle ABC:\n",
            "[[ 1  1  1]\n",
            " [ 4  1 -3]\n",
            " [ 3 -3  1]]\n",
            "\n",
            "Area of Triangle ABC= -18.0\n",
            "\n",
            "\n",
            "Triangle PQR:\n",
            "[[ 1  1  1]\n",
            " [ 4 -3  1]\n",
            " [ 3  1 -3]]\n",
            "\n",
            "Area of Triangle PQR= 18.0\n",
            "\n",
            "\n"
          ]
        },
        {
          "output_type": "display_data",
          "data": {
            "image/png": "[encoded data removed]",
            "text/plain": [
              "<Figure size 432x288 with 1 Axes>"
            ]
          },
          "metadata": {
            "needs_background": "light"
          }
        }
      ]
    }
  ]
}